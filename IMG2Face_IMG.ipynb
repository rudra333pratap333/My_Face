{
 "cells": [
  {
   "cell_type": "code",
   "execution_count": 2,
   "metadata": {},
   "outputs": [],
   "source": [
    "import face_recognition as fc\n",
    "import PIL\n",
    "from PIL import Image\n",
    "import numpy as np\n",
    "import cv2\n",
    "import os\n",
    "\n",
    "def face_locations(images):\n",
    "    images_ = []\n",
    "    for image in images:\n",
    "        top, right, bottom, left = fc.face_locations(image)[0]\n",
    "        face_image = image[top:bottom, left:right]\n",
    "        pil_image = Image.fromarray(face_image)\n",
    "        images_.append(pil_image)\n",
    "    return images_\n",
    "\n",
    "\n",
    "def save_to_dir(images):\n",
    "    for i in range(len(images)):\n",
    "        images[i].save(\"/home/rpsingh/Desktop/cnn_image/img\"+str(i)+\".jpg\")\n",
    "\n",
    "def rgb2gray(images):\n",
    "    images_ = []\n",
    "    for image in images:\n",
    "        image = cv2.cvtColor(image, cv2.COLOR_BGR2GRAY)\n",
    "        images_.append(image)\n",
    "    #img = cv2.cvtColor(images[0], cv2.COLOR_BGR2GRAY)\n",
    "    #images_.append(img)\n",
    "    return images_\n",
    "\n",
    "if(__name__ == \"__main__\"):\n",
    "    images = []\n",
    "    for i in range(1, 10):\n",
    "        img = cv2.imread('/home/rpsingh/Downloads/cnn_img2/IMG-20201130-WA000'+str(i)+'.jpg')\n",
    "        images.append(img)\n",
    "    for i in range(10, 61):\n",
    "        img = img = cv2.imread('/home/rpsingh/Downloads/cnn_img2/IMG-20201130-WA00'+str(i)+'.jpg')\n",
    "        images.append(img)\n",
    "    #for i in range(12,23):\n",
    "    #   img = cv2.imread('/home/rpsingh/Downloads/Me_CNN/img'+str(i)+'.jpg')\n",
    "    #    images.append(img)\n",
    "    #for i in range(23, 31):\n",
    "    #    img = cv2.imread('/home/rpsingh/Downloads/Me_CNN/img'+str(i)+'.jpg')\n",
    "    #    images.append(img)\n",
    "    images = rgb2gray(images)\n",
    "    images = face_locations(images)\n",
    "    save_to_dir(images)"
   ]
  },
  {
   "cell_type": "code",
   "execution_count": null,
   "metadata": {},
   "outputs": [],
   "source": []
  }
 ],
 "metadata": {
  "kernelspec": {
   "display_name": "Python 3",
   "language": "python",
   "name": "python3"
  },
  "language_info": {
   "codemirror_mode": {
    "name": "ipython",
    "version": 3
   },
   "file_extension": ".py",
   "mimetype": "text/x-python",
   "name": "python",
   "nbconvert_exporter": "python",
   "pygments_lexer": "ipython3",
   "version": "3.8.6"
  }
 },
 "nbformat": 4,
 "nbformat_minor": 4
}
